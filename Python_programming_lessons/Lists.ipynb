{
  "nbformat": 4,
  "nbformat_minor": 0,
  "metadata": {
    "colab": {
      "provenance": []
    },
    "kernelspec": {
      "name": "python3",
      "display_name": "Python 3"
    },
    "language_info": {
      "name": "python"
    }
  },
  "cells": [
    {
      "cell_type": "markdown",
      "source": [
        "#Listas em python"
      ],
      "metadata": {
        "id": "BTmMQKPD-sX2"
      }
    },
    {
      "cell_type": "code",
      "execution_count": null,
      "metadata": {
        "id": "Hj67p2C56BlG"
      },
      "outputs": [],
      "source": [
        "#Comandos para listas\n",
        "list[]\n",
        "tuple()\n",
        "dict{}"
      ]
    },
    {
      "cell_type": "code",
      "source": [
        "lista=['a', 'b', 'c']\n",
        "#lista=list()"
      ],
      "metadata": {
        "id": "Srr1gS97AUNB"
      },
      "execution_count": 2,
      "outputs": []
    },
    {
      "cell_type": "code",
      "source": [
        "type(lista)"
      ],
      "metadata": {
        "colab": {
          "base_uri": "https://localhost:8080/"
        },
        "id": "Okz5PSK-AB6c",
        "outputId": "d27f28c8-5536-4ca6-827d-263ff94b0328"
      },
      "execution_count": 3,
      "outputs": [
        {
          "output_type": "execute_result",
          "data": {
            "text/plain": [
              "list"
            ]
          },
          "metadata": {},
          "execution_count": 3
        }
      ]
    },
    {
      "cell_type": "code",
      "source": [
        "lista"
      ],
      "metadata": {
        "colab": {
          "base_uri": "https://localhost:8080/"
        },
        "id": "LWvSxgGoAmal",
        "outputId": "8f9da3e3-07b7-4bba-d49e-e1470c8cce1c"
      },
      "execution_count": 4,
      "outputs": [
        {
          "output_type": "execute_result",
          "data": {
            "text/plain": [
              "['a', 'b', 'c']"
            ]
          },
          "metadata": {},
          "execution_count": 4
        }
      ]
    },
    {
      "cell_type": "code",
      "source": [
        "lista=['abc', 0, 14.42, True]\n",
        "lista_=[lista, 'UFOPA']"
      ],
      "metadata": {
        "id": "mbMQd_cmA4H4"
      },
      "execution_count": 5,
      "outputs": []
    },
    {
      "cell_type": "code",
      "source": [
        "type(lista_)"
      ],
      "metadata": {
        "colab": {
          "base_uri": "https://localhost:8080/"
        },
        "id": "dfAEFdquBVfx",
        "outputId": "e413d6a9-042a-40eb-9124-57b4daa9874a"
      },
      "execution_count": 6,
      "outputs": [
        {
          "output_type": "execute_result",
          "data": {
            "text/plain": [
              "list"
            ]
          },
          "metadata": {},
          "execution_count": 6
        }
      ]
    },
    {
      "cell_type": "code",
      "source": [
        "lista_"
      ],
      "metadata": {
        "colab": {
          "base_uri": "https://localhost:8080/"
        },
        "id": "0qKxK3M3Bd4-",
        "outputId": "d50d631b-2ed9-4fb1-b78c-35acb3a2cf3f"
      },
      "execution_count": 7,
      "outputs": [
        {
          "output_type": "execute_result",
          "data": {
            "text/plain": [
              "[['abc', 0, 14.42, True], 'UFOPA']"
            ]
          },
          "metadata": {},
          "execution_count": 7
        }
      ]
    },
    {
      "cell_type": "code",
      "source": [
        "nota1 = float(input('Informe a nota 1 do aluno: '))\n",
        "nota2 = float(input('Informe a nota 2 do aluno: '))\n",
        "nota3 = float(input('Informe a nota 3 do aluno: '))\n",
        "nota4 = float(input('Informe a nota 4 do aluno: '))\n",
        "\n",
        "media = (nota1 + nota2 + nota3 + nota4) / 4\n",
        "print(media)"
      ],
      "metadata": {
        "colab": {
          "base_uri": "https://localhost:8080/"
        },
        "id": "HxxYc37HB0xv",
        "outputId": "cadf1472-a6cb-446f-e894-ef1d22b2ae21"
      },
      "execution_count": 10,
      "outputs": [
        {
          "output_type": "stream",
          "name": "stdout",
          "text": [
            "Informe a nota 1 do aluno: 8.8\n",
            "Informe a nota 2 do aluno: 7.3\n",
            "Informe a nota 3 do aluno: 6.1\n",
            "Informe a nota 4 do aluno: 9\n",
            "7.800000000000001\n"
          ]
        }
      ]
    },
    {
      "cell_type": "code",
      "source": [
        "lista"
      ],
      "metadata": {
        "colab": {
          "base_uri": "https://localhost:8080/"
        },
        "id": "KRXius_dDfpD",
        "outputId": "b64fddfb-2263-43d9-ada2-9a3bc837f048"
      },
      "execution_count": 11,
      "outputs": [
        {
          "output_type": "execute_result",
          "data": {
            "text/plain": [
              "['abc', 0, 14.42, True]"
            ]
          },
          "metadata": {},
          "execution_count": 11
        }
      ]
    },
    {
      "cell_type": "code",
      "source": [
        "lista[2]"
      ],
      "metadata": {
        "colab": {
          "base_uri": "https://localhost:8080/"
        },
        "id": "8obMtv-SDh4w",
        "outputId": "3ef33bf5-4108-49b0-f805-28bf18d65662"
      },
      "execution_count": 12,
      "outputs": [
        {
          "output_type": "execute_result",
          "data": {
            "text/plain": [
              "14.42"
            ]
          },
          "metadata": {},
          "execution_count": 12
        }
      ]
    },
    {
      "cell_type": "code",
      "source": [
        "lista[2] = 14.55\n",
        "lista"
      ],
      "metadata": {
        "colab": {
          "base_uri": "https://localhost:8080/"
        },
        "id": "3gThADA9DnP-",
        "outputId": "974e3bcf-4c43-4ec4-d6fa-356f406464d6"
      },
      "execution_count": 13,
      "outputs": [
        {
          "output_type": "execute_result",
          "data": {
            "text/plain": [
              "['abc', 0, 14.55, True]"
            ]
          },
          "metadata": {},
          "execution_count": 13
        }
      ]
    },
    {
      "cell_type": "code",
      "source": [
        "letras= ['a', 'b', 'c', 'd', 'e', 'f', 'g', 'h', 'i']\n",
        "print(letras)\n",
        "tamanho = len(letras)\n",
        "print(f'Tamanho da lista: {tamanho}')\n",
        "\n",
        "for indice in range(tamanho):\n",
        "  print(indice, letras[indice])"
      ],
      "metadata": {
        "colab": {
          "base_uri": "https://localhost:8080/"
        },
        "id": "Vq1cieNqDtZm",
        "outputId": "97937d64-f29d-45cb-f137-91f6754f9284"
      },
      "execution_count": 15,
      "outputs": [
        {
          "output_type": "stream",
          "name": "stdout",
          "text": [
            "['a', 'b', 'c', 'd', 'e', 'f', 'g', 'h', 'i']\n",
            "Tamanho da lista: 9\n",
            "0 a\n",
            "1 b\n",
            "2 c\n",
            "3 d\n",
            "4 e\n",
            "5 f\n",
            "6 g\n",
            "7 h\n",
            "8 i\n"
          ]
        }
      ]
    },
    {
      "cell_type": "code",
      "source": [
        "for elemento in letras:\n",
        "  print(elemento)"
      ],
      "metadata": {
        "colab": {
          "base_uri": "https://localhost:8080/"
        },
        "id": "URSqjjipIxZV",
        "outputId": "3644e30c-5e9d-4af0-a098-1a74b46fdeda"
      },
      "execution_count": 16,
      "outputs": [
        {
          "output_type": "stream",
          "name": "stdout",
          "text": [
            "a\n",
            "b\n",
            "c\n",
            "d\n",
            "e\n",
            "f\n",
            "g\n",
            "h\n",
            "i\n"
          ]
        }
      ]
    },
    {
      "cell_type": "markdown",
      "source": [
        "### ![1df26dfac40a2031c085783e794a5e1a.jpg](data:image/jpeg;base64,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)\n",
        "### Funções de Listas "
      ],
      "metadata": {
        "id": "5j1sWfCdJIup"
      }
    },
    {
      "cell_type": "code",
      "source": [
        "letras\n",
        "letras.append( 'j' )\n",
        "letras"
      ],
      "metadata": {
        "colab": {
          "base_uri": "https://localhost:8080/"
        },
        "id": "e1yCaGKJJd-d",
        "outputId": "f261b868-c103-422b-9db6-8bf12d3d0cef"
      },
      "execution_count": 17,
      "outputs": [
        {
          "output_type": "execute_result",
          "data": {
            "text/plain": [
              "['a', 'b', 'c', 'd', 'e', 'f', 'g', 'h', 'i', 'j']"
            ]
          },
          "metadata": {},
          "execution_count": 17
        }
      ]
    },
    {
      "cell_type": "code",
      "source": [
        "letras.append('k')\n",
        "letras"
      ],
      "metadata": {
        "colab": {
          "base_uri": "https://localhost:8080/"
        },
        "id": "r3tWzNh-KaRb",
        "outputId": "45e2f346-d5ea-47bb-d1ed-55e70cbc454f"
      },
      "execution_count": 18,
      "outputs": [
        {
          "output_type": "execute_result",
          "data": {
            "text/plain": [
              "['a', 'b', 'c', 'd', 'e', 'f', 'g', 'h', 'i', 'j', 'k']"
            ]
          },
          "metadata": {},
          "execution_count": 18
        }
      ]
    },
    {
      "cell_type": "code",
      "source": [
        "letras.append('m')\n",
        "letras.append('n')\n",
        "letras"
      ],
      "metadata": {
        "colab": {
          "base_uri": "https://localhost:8080/"
        },
        "id": "-frpXniWKjHR",
        "outputId": "31cff6af-d67a-4743-9f7a-570ebcc16f5d"
      },
      "execution_count": 19,
      "outputs": [
        {
          "output_type": "execute_result",
          "data": {
            "text/plain": [
              "['a', 'b', 'c', 'd', 'e', 'f', 'g', 'h', 'i', 'j', 'k', 'm', 'n']"
            ]
          },
          "metadata": {},
          "execution_count": 19
        }
      ]
    },
    {
      "cell_type": "code",
      "source": [
        "letras.insert(11, 'l')\n",
        "letras"
      ],
      "metadata": {
        "colab": {
          "base_uri": "https://localhost:8080/"
        },
        "id": "NSof8FVsLgZ8",
        "outputId": "17112e32-9a0f-41c5-95a7-b981742319a9"
      },
      "execution_count": 20,
      "outputs": [
        {
          "output_type": "execute_result",
          "data": {
            "text/plain": [
              "['a', 'b', 'c', 'd', 'e', 'f', 'g', 'h', 'i', 'j', 'k', 'l', 'm', 'n']"
            ]
          },
          "metadata": {},
          "execution_count": 20
        }
      ]
    },
    {
      "cell_type": "code",
      "source": [
        "letras.extend(['o', 'p'])\n",
        "letras"
      ],
      "metadata": {
        "colab": {
          "base_uri": "https://localhost:8080/"
        },
        "id": "WV74aqkHMGmK",
        "outputId": "0f25fddd-0eb6-4f3b-e2f0-4c7c50efe8c4"
      },
      "execution_count": 21,
      "outputs": [
        {
          "output_type": "execute_result",
          "data": {
            "text/plain": [
              "['a',\n",
              " 'b',\n",
              " 'c',\n",
              " 'd',\n",
              " 'e',\n",
              " 'f',\n",
              " 'g',\n",
              " 'h',\n",
              " 'i',\n",
              " 'j',\n",
              " 'k',\n",
              " 'l',\n",
              " 'm',\n",
              " 'n',\n",
              " 'o',\n",
              " 'p']"
            ]
          },
          "metadata": {},
          "execution_count": 21
        }
      ]
    },
    {
      "cell_type": "code",
      "source": [
        "letras.insert(11, 'l')\n",
        "print(letras)"
      ],
      "metadata": {
        "colab": {
          "base_uri": "https://localhost:8080/"
        },
        "id": "MkWyuL_4MRI1",
        "outputId": "7284cd76-e383-464a-bd81-a97653f9fb20"
      },
      "execution_count": 23,
      "outputs": [
        {
          "output_type": "stream",
          "name": "stdout",
          "text": [
            "['a', 'b', 'c', 'd', 'e', 'f', 'g', 'h', 'i', 'j', 'k', 'l', 'l', 'm', 'n', 'o', 'p']\n"
          ]
        }
      ]
    },
    {
      "cell_type": "code",
      "source": [
        "letras.remove('l')\n",
        "print(letras)"
      ],
      "metadata": {
        "colab": {
          "base_uri": "https://localhost:8080/"
        },
        "id": "wExorr4nNBHR",
        "outputId": "2a8956b4-10d7-47d6-e2f5-76e6444c852e"
      },
      "execution_count": 24,
      "outputs": [
        {
          "output_type": "stream",
          "name": "stdout",
          "text": [
            "['a', 'b', 'c', 'd', 'e', 'f', 'g', 'h', 'i', 'j', 'k', 'l', 'm', 'n', 'o', 'p']\n"
          ]
        }
      ]
    },
    {
      "cell_type": "code",
      "source": [
        "letras.insert(3, 'l')\n",
        "print(letras)"
      ],
      "metadata": {
        "colab": {
          "base_uri": "https://localhost:8080/"
        },
        "id": "SIvkltfeNJyN",
        "outputId": "8f9f2ea6-8dff-4739-9890-b1ef1ca9a407"
      },
      "execution_count": 25,
      "outputs": [
        {
          "output_type": "stream",
          "name": "stdout",
          "text": [
            "['a', 'b', 'c', 'l', 'd', 'e', 'f', 'g', 'h', 'i', 'j', 'k', 'l', 'm', 'n', 'o', 'p']\n"
          ]
        }
      ]
    },
    {
      "cell_type": "code",
      "source": [
        "letras.remove('l')\n",
        "print(letras)"
      ],
      "metadata": {
        "colab": {
          "base_uri": "https://localhost:8080/"
        },
        "id": "xKu7lowGNTXO",
        "outputId": "33fd4a52-dd56-4be4-9ad8-81a0aa60e27d"
      },
      "execution_count": 26,
      "outputs": [
        {
          "output_type": "stream",
          "name": "stdout",
          "text": [
            "['a', 'b', 'c', 'd', 'e', 'f', 'g', 'h', 'i', 'j', 'k', 'l', 'm', 'n', 'o', 'p']\n"
          ]
        }
      ]
    },
    {
      "cell_type": "code",
      "source": [
        "letras.insert(1, 'l')\n",
        "print(letras)"
      ],
      "metadata": {
        "colab": {
          "base_uri": "https://localhost:8080/"
        },
        "id": "nQcI2mfcNjxJ",
        "outputId": "27f0464c-6ae9-4126-8ed1-08c0d9966219"
      },
      "execution_count": 27,
      "outputs": [
        {
          "output_type": "stream",
          "name": "stdout",
          "text": [
            "['a', 'l', 'b', 'c', 'd', 'e', 'f', 'g', 'h', 'i', 'j', 'k', 'l', 'm', 'n', 'o', 'p']\n"
          ]
        }
      ]
    },
    {
      "cell_type": "code",
      "source": [
        "letras.pop()\n",
        "print(letras)"
      ],
      "metadata": {
        "colab": {
          "base_uri": "https://localhost:8080/"
        },
        "id": "x73GqP22Nr8_",
        "outputId": "c7925199-d90e-43ca-9669-ee81f6cc010f"
      },
      "execution_count": 28,
      "outputs": [
        {
          "output_type": "stream",
          "name": "stdout",
          "text": [
            "['a', 'l', 'b', 'c', 'd', 'e', 'f', 'g', 'h', 'i', 'j', 'k', 'l', 'm', 'n', 'o']\n"
          ]
        }
      ]
    },
    {
      "cell_type": "code",
      "source": [
        "letras.pop(1)\n",
        "print(letras)"
      ],
      "metadata": {
        "colab": {
          "base_uri": "https://localhost:8080/"
        },
        "id": "tE8QniX9OC9J",
        "outputId": "05fd91f6-b61c-4fa7-cc25-d02529bd22d4"
      },
      "execution_count": 29,
      "outputs": [
        {
          "output_type": "stream",
          "name": "stdout",
          "text": [
            "['a', 'b', 'c', 'd', 'e', 'f', 'g', 'h', 'i', 'j', 'k', 'l', 'm', 'n', 'o']\n"
          ]
        }
      ]
    },
    {
      "cell_type": "code",
      "source": [
        "#Para saber a posição na lista utiliza-se index\n",
        "print(letras.index('l'))"
      ],
      "metadata": {
        "colab": {
          "base_uri": "https://localhost:8080/"
        },
        "id": "H_mP_BL1PG-V",
        "outputId": "8f868e89-743b-46d0-aa80-41238af89494"
      },
      "execution_count": 31,
      "outputs": [
        {
          "output_type": "stream",
          "name": "stdout",
          "text": [
            "11\n"
          ]
        }
      ]
    },
    {
      "cell_type": "code",
      "source": [
        "presenca = ['Zé da mangá', 'Irineu', 'Mc Pipokinha', 'Raluca', 'Shrek Humano Cringe', 'Alisa meu pelo']\n",
        "print(presenca)"
      ],
      "metadata": {
        "colab": {
          "base_uri": "https://localhost:8080/"
        },
        "id": "0jmfbK58PawK",
        "outputId": "85c7154b-e1f7-478b-8d8a-3fbf7f75fa5d"
      },
      "execution_count": 32,
      "outputs": [
        {
          "output_type": "stream",
          "name": "stdout",
          "text": [
            "['Zé da mangá', 'Irineu', 'Mc Pipokinha', 'Raluca', 'Shrek Humano Cringe', 'Alisa meu pelo']\n"
          ]
        }
      ]
    },
    {
      "cell_type": "code",
      "source": [
        "presenca.reverse()\n",
        "print(presenca)"
      ],
      "metadata": {
        "colab": {
          "base_uri": "https://localhost:8080/"
        },
        "id": "O9EtRozhQWOq",
        "outputId": "59b97051-dd18-4ee8-bce5-50e8c7c2ead0"
      },
      "execution_count": 33,
      "outputs": [
        {
          "output_type": "stream",
          "name": "stdout",
          "text": [
            "['Alisa meu pelo', 'Shrek Humano Cringe', 'Raluca', 'Mc Pipokinha', 'Irineu', 'Zé da mangá']\n"
          ]
        }
      ]
    }
  ]
}
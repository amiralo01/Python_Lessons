{
  "nbformat": 4,
  "nbformat_minor": 0,
  "metadata": {
    "colab": {
      "provenance": [],
      "authorship_tag": "ABX9TyMilCg1mcF5NlrXPxsujxVs",
      "include_colab_link": true
    },
    "kernelspec": {
      "name": "python3",
      "display_name": "Python 3"
    },
    "language_info": {
      "name": "python"
    }
  },
  "cells": [
    {
      "cell_type": "markdown",
      "metadata": {
        "id": "view-in-github",
        "colab_type": "text"
      },
      "source": [
        "<a href=\"https://colab.research.google.com/github/amiralo01/Python_Lessons/blob/main/Python_programming_lessons/Atvd_ZeroFun%C3%A7%C3%B5es.ipynb\" target=\"_parent\"><img src=\"https://colab.research.google.com/assets/colab-badge.svg\" alt=\"Open In Colab\"/></a>"
      ]
    },
    {
      "cell_type": "markdown",
      "source": [
        "# **Atividade de Cálculo numérico - Zero funções**"
      ],
      "metadata": {
        "id": "hSSIVTV_VK_9"
      }
    },
    {
      "cell_type": "markdown",
      "source": [
        "Instalação das bibliotecas:"
      ],
      "metadata": {
        "id": "VBMBPYg4H4FS"
      }
    },
    {
      "cell_type": "code",
      "execution_count": 1,
      "metadata": {
        "colab": {
          "base_uri": "https://localhost:8080/"
        },
        "id": "ya8yZPgOVGQv",
        "outputId": "dfea35bc-0749-4537-cb28-53cdd60e85a3"
      },
      "outputs": [
        {
          "output_type": "stream",
          "name": "stdout",
          "text": [
            "Looking in indexes: https://pypi.org/simple, https://us-python.pkg.dev/colab-wheels/public/simple/\n",
            "Requirement already satisfied: sympy in /usr/local/lib/python3.10/dist-packages (1.11.1)\n",
            "Requirement already satisfied: mpmath>=0.19 in /usr/local/lib/python3.10/dist-packages (from sympy) (1.3.0)\n",
            "Looking in indexes: https://pypi.org/simple, https://us-python.pkg.dev/colab-wheels/public/simple/\n",
            "Requirement already satisfied: prettytable in /usr/local/lib/python3.10/dist-packages (0.7.2)\n"
          ]
        }
      ],
      "source": [
        "!pip install sympy\n",
        "!pip3 install prettytable"
      ]
    },
    {
      "cell_type": "markdown",
      "source": [
        "\n",
        "\n",
        "*   A biblioteca \"**prettytable**\" permite a criação de tabelas elegantes e personalizadas a partir de dados em listas ou outras estruturas de dados.\n",
        "*   Já o \"**sympy**\" é uma biblioteca Python de matemática simbólica que fornece ferramentas para realizar cálculos simbólicos, como integração, diferenciação, simplificação de expressões e solução de equações.\n",
        "\n"
      ],
      "metadata": {
        "id": "n9d_is-oJSIx"
      }
    },
    {
      "cell_type": "markdown",
      "source": [
        "**Preparação do ambiente**"
      ],
      "metadata": {
        "id": "C3GgfRgvMpWN"
      }
    },
    {
      "cell_type": "markdown",
      "source": [
        "1.   O comando from \"**math import** *\" é usado para importar todas as funções do módulo math, que fornece funções matemáticas básicas como sin(), cos(), tan(), sqrt(), log(), entre outras\n",
        "2.   O comando from \"**prettytable import PrettyTable**\" é usado para importar a classe PrettyTable do pacote prettytable, permitindo que o programador crie tabelas elegantes e personalizadas a partir de dados em listas ou outras estruturas de dados."
      ],
      "metadata": {
        "id": "AGSp1PPeRCdb"
      }
    },
    {
      "cell_type": "code",
      "source": [
        "from math import *\n",
        "from prettytable import PrettyTable\n",
        "\n",
        "def ler_formula(message):\n",
        "    formula_Correta = False\n",
        "    formula = \"\"\n",
        "    x = 1\n",
        "    while not formula_Correta:\n",
        "        try:\n",
        "            formula = input(message)\n",
        "            eval(formula)\n",
        "            formula_Correta = True\n",
        "        except:\n",
        "            print(\"Está forma não é valida\")\n",
        "    return formula\n",
        "\n",
        "def criar_tabela(header, list):\n",
        "    table = PrettyTable(header)\n",
        "    table.align = 'l'\n",
        "    for row in list:\n",
        "        table.add_row(row)\n",
        "    print(table)\n",
        "\n",
        "def criar_tabelasGerais(bisseccao_resultado, newton_resultado, secante_resultado, fixedpoint_resultado):\n",
        "    table = PrettyTable([\"\", \"Bissecção\", \"Newton\", \"Secante\", \"MPF\"])\n",
        "    table.align = 'l'\n",
        "\n",
        "    # Dados iniciais:\n",
        "    table.add_row([\"Dados Iniciais\", bisseccao_resultado[\"label\"], newton_resultado[\"label\"], secante_resultado[\"label\"], fixedpoint_resultado[\"label\"]])\n",
        "    #x:\n",
        "    table.add_row([\"x̅\", bisseccao_resultado[\"x\"], newton_resultado[\"x\"], secante_resultado[\"x\"], fixedpoint_resultado[\"x\"]])\n",
        "    #f(x):\n",
        "    table.add_row([\"f(x̅)\", bisseccao_resultado[\"fx\"], newton_resultado[\"fx\"], secante_resultado[\"fx\"], fixedpoint_resultado[\"fx\"]])\n",
        "    #Iterações:\n",
        "    table.add_row([\"Iterações\", bisseccao_resultado[\"iter\"], newton_resultado[\"iter\"], secante_resultado[\"iter\"], fixedpoint_resultado[\"iter\"]])\n",
        "    print(table)"
      ],
      "metadata": {
        "id": "YjKBwUlkM3VK"
      },
      "execution_count": 6,
      "outputs": []
    },
    {
      "cell_type": "markdown",
      "source": [
        "# **Método da Bisseção**:"
      ],
      "metadata": {
        "id": "ujQubFIEUm2J"
      }
    },
    {
      "cell_type": "code",
      "source": [
        "from math import *\n",
        "\n",
        "def f(x):\n",
        "    return eval(formula)\n",
        "\n",
        "def bisection(a, b, tol):\n",
        "    lbl = \"[\" + str(a) + \", \" + str(b) + \"]\"\n",
        "    iter = 0 \n",
        "    initial_x = 0.5 * (a + b)\n",
        "    error = float('inf')\n",
        "    header = [\"Iteração\", \"X\", \"F(x)\", \"Error\"]  # Cabeçalho\n",
        "    list = [[0, initial_x, f(initial_x), error]]\n",
        "\n",
        "    while error > tol:\n",
        "        \n",
        "        if f(a) * f(initial_x) < 0:\n",
        "            b = initial_x\n",
        "        else:\n",
        "            a = initial_x\n",
        "\n",
        "        x0 = initial_x\n",
        "        initial_x = 0.5 * (a + b)\n",
        "        error = abs(initial_x - x0)\n",
        "\n",
        "        iter += 1\n",
        "        list.append([iter, initial_x, f(initial_x), error])\n",
        "\n",
        "    if(error > tol):\n",
        "      print(\"Não é possível realizar a converssão\")\n",
        "      initial_x = None\n",
        "    else:\n",
        "      criar_tabela(header, list)\n",
        "\n",
        "    return {\"x\": round(initial_x, 4), \"fx\": round(f(initial_x), 4), \"iter\": iter, \"list\": list, \"label\": lbl}"
      ],
      "metadata": {
        "id": "lXx7kiRRUvd9"
      },
      "execution_count": 15,
      "outputs": []
    },
    {
      "cell_type": "markdown",
      "source": [
        "# **Método de Newton**:"
      ],
      "metadata": {
        "id": "wyBz5MueYH2e"
      }
    },
    {
      "cell_type": "code",
      "source": [
        "from math import *\n",
        "from sympy import *\n",
        "\n",
        "def f(x):\n",
        "    return eval(formula_fx)\n",
        "\n",
        "def df(x):\n",
        "    return eval(formula_dx)\n",
        "\n",
        "def newton(x0, tol, maxiter):\n",
        "    lbl = \"x0 = \" + str(x0)\n",
        "    iter = 0\n",
        "    error = float('inf')\n",
        "    header = [\"Iteração\", \"X\", \"F(x)\", \"Error\"] \n",
        "    list = [[0, x0, f(x0), error]]\n",
        "\n",
        "    while error > tol and iter < maxiter:\n",
        "        iter += 1 \n",
        "        dx = -f(x0) / df(x0)  \n",
        "        initial_x = x0 + dx  \n",
        "        error = abs(initial_x-x0)  \n",
        "        x0 = initial_x  \n",
        "        list.append([iter, initial_x, f(initial_x), error])  \n",
        "\n",
        "    if(error > tol):\n",
        "        print(\"Não é possível realizar a converssão\")\n",
        "        initial_x = None\n",
        "    else:\n",
        "      criar_tabela(header, list)\n",
        "\n",
        "    return {\"x\": round(initial_x, 4), \"fx\": round(f(initial_x), 4), \"iter\": iter, \"list\": list, \"label\": lbl}"
      ],
      "metadata": {
        "id": "4eSv3IgcYPJh"
      },
      "execution_count": 19,
      "outputs": []
    },
    {
      "cell_type": "markdown",
      "source": [
        "# **Método da Secante**:"
      ],
      "metadata": {
        "id": "srQeMhNKp9_s"
      }
    },
    {
      "cell_type": "code",
      "source": [
        "from math import *\n",
        "\n",
        "def f(x):\n",
        "    return eval(formula)\n",
        "\n",
        "def secante(x0, x1, tolerancia, max_iter):\n",
        "    lbl = \"x0 = \" + str(x0) + \"; x1 = \" + str(x1)\n",
        "    cont = 0  \n",
        "    r1 = x0  \n",
        "    rn = x1  \n",
        "    error = float('inf')  \n",
        "    header = [\"Iteração\", \"X\", \"F(x)\", \"Error\"]  \n",
        "    list = [[0, x0, f(x0), error], [1, x1, f(x1), error]]  \n",
        "\n",
        "    while error > tolerancia and cont < max_iter:\n",
        "        r2 = r1\n",
        "        r1 = rn\n",
        "        rn = r1 - ((f(r1)*(r2-r1)) / (f(r2) - f(r1)))  \n",
        "        error = abs(rn - r1) / abs(rn)  \n",
        "        cont += 1  \n",
        "        list.append([cont+1, rn, f(rn), error]) \n",
        "\n",
        "    if(error > tolerancia):\n",
        "      print(\"Não é possível realizar a converssão\")\n",
        "      initial_x = None\n",
        "    else:\n",
        "      criar_tabela(header, list)\n",
        "      initial_x = rn\n",
        "\n",
        "    return {\"x\": round(initial_x, 4), \"fx\": round(f(initial_x), 4), \"iter\": cont, \"list\": list, \"label\": lbl}"
      ],
      "metadata": {
        "id": "EQrp1vuAqJcF"
      },
      "execution_count": 24,
      "outputs": []
    },
    {
      "cell_type": "markdown",
      "source": [
        "# **Método do ponto fixo**:"
      ],
      "metadata": {
        "id": "BvAYtXfpromL"
      }
    },
    {
      "cell_type": "code",
      "source": [
        "from math import *\n",
        "\n",
        "def g(x):\n",
        "    return eval(formulade_x_evidencia)\n",
        "\n",
        "def f(x):\n",
        "    return eval(formula)\n",
        "\n",
        "def fixedpoint(x0, tol, maxiter):\n",
        "    lbl = \"x0 = \" + str(x0)\n",
        "    iter = 0  \n",
        "    error = float('inf')  \n",
        "    header = [\"Iteração\", \"X\", \"F(x)\", \"Error\"]  \n",
        "    list = [[0, x0, f(x0), error]]  \n",
        "\n",
        "    while error > tol and iter < maxiter:\n",
        "        try:\n",
        "            iter += 1  \n",
        "            x_atual = g(x0)  \n",
        "            error = abs(x_atual - x0)  \n",
        "            x0 = x_atual  \n",
        "            list.append([iter, x_atual, f(x_atual), error])  \n",
        "        except:\n",
        "            break\n",
        "\n",
        "    if error > tol:\n",
        "        print(\"Não foi possível convergir\")\n",
        "        atual_x = None\n",
        "    else:\n",
        "        criar_tabela(header, list)\n",
        "\n",
        "    return {\"x\": round(x_atual, 4), \"fx\": round(f(x_atual), 4), \"iter\": iter, \"list\": list, \"label\": lbl}"
      ],
      "metadata": {
        "id": "dfDLyhTyr6YZ"
      },
      "execution_count": 10,
      "outputs": []
    },
    {
      "cell_type": "code",
      "source": [],
      "metadata": {
        "id": "D0VJDazn73vQ"
      },
      "execution_count": null,
      "outputs": []
    },
    {
      "cell_type": "markdown",
      "source": [
        "# **Funções necessárias para cada método**:\n",
        "\n",
        "**Função 1** - Definição de valores\n",
        "![Função 1.PNG](data:image/png;base64,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)"
      ],
      "metadata": {
        "id": "5NrqLndBvK3c"
      }
    },
    {
      "cell_type": "code",
      "source": [
        "formula = formula_fx = 'e**-x**2-cos(x)'\n",
        "formulade_x_evidencia = 'x-(exp(-x**2)-cos(x))' #'sqrt(-log(e, cos(x)))'\n",
        "formula_dx = 'sin(x) - 2*x*log(e)/e**(x**2)'\n",
        "tolerancia = 1e-7\n",
        "maxiter = 1000\n",
        "\n",
        "print(\"\\nBisseção\")\n",
        "bis_res = bisection (1  , 1.5, tolerancia)\n",
        "\n",
        "print(\"\\nNewton\")\n",
        "new_res = newton    (1.5,      tolerancia, maxiter)\n",
        "\n",
        "print(\"\\nSecante\")\n",
        "sec_res = secante   (1  , 1.5, tolerancia, maxiter)\n",
        "\n",
        "print(\"\\nPonto Fixo\")\n",
        "mpf_res = fixedpoint(1.5,      tolerancia, maxiter)\n",
        "\n",
        "print(\"\\nTabela Comparativa\")\n",
        "criar_tabelasGerais(bis_res, new_res, sec_res, mpf_res)"
      ],
      "metadata": {
        "colab": {
          "base_uri": "https://localhost:8080/"
        },
        "id": "HfRYVMX2vKAu",
        "outputId": "d5af6c38-9d5a-429e-ea65-bab8b5ea6d2d"
      },
      "execution_count": 26,
      "outputs": [
        {
          "output_type": "stream",
          "name": "stdout",
          "text": [
            "\n",
            "Bisseção\n",
            "+----------+--------------------+-------------------------+------------------------+\n",
            "| Iteração | X                  | F(x)                    | Error                  |\n",
            "+----------+--------------------+-------------------------+------------------------+\n",
            "| 0        | 1.25               | -0.10571097524417084    | inf                    |\n",
            "| 1        | 1.375              | -0.04357028953307257    | 0.125                  |\n",
            "| 2        | 1.4375             | -0.0062618667706374476  | 0.0625                 |\n",
            "| 3        | 1.46875            | 0.01377610211517974     | 0.03125                |\n",
            "| 4        | 1.453125           | 0.003647539991477919    | 0.015625               |\n",
            "| 5        | 1.4453125          | -0.0013349986384428858  | 0.0078125              |\n",
            "| 6        | 1.44921875         | 0.001149366628583559    | 0.00390625             |\n",
            "| 7        | 1.447265625        | -9.454888421209229e-05  | 0.001953125            |\n",
            "| 8        | 1.4482421875       | 0.0005269765094347567   | 0.0009765625           |\n",
            "| 9        | 1.44775390625      | 0.0002161056147054058   | 0.00048828125          |\n",
            "| 10       | 1.447509765625     | 6.075130237528925e-05   | 0.000244140625         |\n",
            "| 11       | 1.4473876953125    | -1.690555831014573e-05  | 0.0001220703125        |\n",
            "| 12       | 1.44744873046875   | 2.192118039384683e-05   | 6.103515625e-05        |\n",
            "| 13       | 1.447418212890625  | 2.50738810601836e-06    | 3.0517578125e-05       |\n",
            "| 14       | 1.4474029541015625 | -7.199190839302094e-06  | 1.52587890625e-05      |\n",
            "| 15       | 1.4474105834960938 | -2.3459278005316664e-06 | 7.62939453125e-06      |\n",
            "| 16       | 1.4474143981933594 | 8.072354432120399e-08   | 3.814697265625e-06     |\n",
            "| 17       | 1.4474124908447266 | -1.1326037802211752e-06 | 1.9073486328125e-06    |\n",
            "| 18       | 1.447413444519043  | -5.259405309737675e-07  | 9.5367431640625e-07    |\n",
            "| 19       | 1.4474139213562012 | -2.2260859658396193e-07 | 4.76837158203125e-07   |\n",
            "| 20       | 1.4474141597747803 | -7.094255194406429e-08  | 2.384185791015625e-07  |\n",
            "| 21       | 1.4474142789840698 | 4.890489735398518e-09   | 1.1920928955078125e-07 |\n",
            "| 22       | 1.447414219379425  | -3.302603271415627e-08  | 5.960464477539063e-08  |\n",
            "+----------+--------------------+-------------------------+------------------------+\n",
            "\n",
            "Newton\n",
            "+----------+--------------------+------------------------+------------------------+\n",
            "| Iteração | X                  | F(x)                   | Error                  |\n",
            "+----------+--------------------+------------------------+------------------------+\n",
            "| 0        | 1.5                | 0.03466202289416144    | inf                    |\n",
            "| 1        | 1.4491234997747455 | 0.001088623032432498   | 0.05087650022525447    |\n",
            "| 2        | 1.447416347013611  | 1.3204357451057636e-06 | 0.0017071527611345338  |\n",
            "| 3        | 1.4474142712993125 | 1.956573791872529e-12  | 2.075714298443998e-06  |\n",
            "| 4        | 1.4474142712962368 | 0.0                    | 3.0757618674215337e-12 |\n",
            "+----------+--------------------+------------------------+------------------------+\n",
            "\n",
            "Secante\n",
            "+----------+--------------------+-------------------------+------------------------+\n",
            "| Iteração | X                  | F(x)                    | Error                  |\n",
            "+----------+--------------------+-------------------------+------------------------+\n",
            "| 0        | 1                  | -0.17242286469669743    | inf                    |\n",
            "| 1        | 1.5                | 0.03466202289416144     | inf                    |\n",
            "| 2        | 1.4163096271837958 | -0.019338210666863448   | 0.05909044972222278    |\n",
            "| 3        | 1.4462802764492133 | -0.0007207879162301062  | 0.020722573455125116   |\n",
            "| 4        | 1.4474406133079414 | 1.6757356676319612e-05  | 0.0008016472994192628  |\n",
            "| 5        | 1.4474142499383684 | -1.3586459790548844e-08 | 1.8214114980614296e-05 |\n",
            "| 6        | 1.447414271295835  | -2.555317069052876e-13  | 1.4755600457745293e-08 |\n",
            "+----------+--------------------+-------------------------+------------------------+\n",
            "\n",
            "Ponto Fixo\n",
            "+----------+--------------------+------------------------+------------------------+\n",
            "| Iteração | X                  | F(x)                   | Error                  |\n",
            "+----------+--------------------+------------------------+------------------------+\n",
            "| 0        | 1.5                | 0.03466202289416144    | inf                    |\n",
            "| 1        | 1.4653379771058386 | 0.011545989928126776   | 0.034662022894161426   |\n",
            "| 2        | 1.4537919871777119 | 0.004075472071801242   | 0.011545989928126721   |\n",
            "| 3        | 1.4497165151059106 | 0.0014669381682340804  | 0.004075472071801256   |\n",
            "| 4        | 1.4482495769376764 | 0.000531682756466062   | 0.0014669381682341776  |\n",
            "| 5        | 1.4477178941812103 | 0.0001931866074275923  | 0.0005316827564660898  |\n",
            "| 6        | 1.4475247075737827 | 7.025777685443213e-05  | 0.00019318660742762006 |\n",
            "| 7        | 1.4474544497969284 | 2.5559631680383e-05    | 7.025777685432111e-05  |\n",
            "| 8        | 1.4474288901652481 | 9.29965239124253e-06   | 2.5559631680271977e-05 |\n",
            "| 9        | 1.4474195905128568 | 3.383745837248764e-06  | 9.299652391270286e-06  |\n",
            "| 10       | 1.4474162067670195 | 1.231219905445391e-06  | 3.383745837304275e-06  |\n",
            "| 11       | 1.4474149755471142 | 4.479979466565087e-07  | 1.2312199053621242e-06 |\n",
            "| 12       | 1.4474145275491674 | 1.6301115655925624e-07 | 4.4799794673977544e-07 |\n",
            "| 13       | 1.4474143645380109 | 5.931423933958069e-08  | 1.6301115657313403e-07 |\n",
            "| 14       | 1.4474143052237716 | 2.158244896688366e-08  | 5.9314239297947324e-08 |\n",
            "+----------+--------------------+------------------------+------------------------+\n",
            "\n",
            "Tabela Comparativa\n",
            "+----------------+-----------+----------+------------------+----------+\n",
            "|                | Bissecção | Newton   | Secante          | MPF      |\n",
            "+----------------+-----------+----------+------------------+----------+\n",
            "| Dados Iniciais | [1, 1.5]  | x0 = 1.5 | x0 = 1; x1 = 1.5 | x0 = 1.5 |\n",
            "| x̅              | 1.4474    | 1.4474   | 1.4474           | 1.4474   |\n",
            "| f(x̅)           | -0.0      | 0.0      | -0.0             | 0.0      |\n",
            "| Iterações      | 22        | 4        | 5                | 14       |\n",
            "+----------------+-----------+----------+------------------+----------+\n"
          ]
        }
      ]
    },
    {
      "cell_type": "markdown",
      "source": [
        "**Função 2** - Definição de valores\n",
        "![Função 2.PNG](data:image/png;base64,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)"
      ],
      "metadata": {
        "id": "_nvDw9t-3DzJ"
      }
    },
    {
      "cell_type": "code",
      "source": [
        "formula = formula_fx = 'x**3-x-1'\n",
        "formulade_x_evidencia = '(x+1)**(1/3)'\n",
        "formula_dx = '3*x**2-1'\n",
        "tolerancia = 1e-5\n",
        "maxiter = 1000\n",
        "\n",
        "print(\"\\nBisseção\")\n",
        "bis_res = bisection (0  , 1.5, tolerancia)\n",
        "\n",
        "print(\"\\nNewton\")\n",
        "new_res = newton    (0,      tolerancia, maxiter)\n",
        "\n",
        "print(\"\\nSecante\")\n",
        "sec_res = secante   (0  , 0.5, tolerancia, maxiter)\n",
        "\n",
        "print(\"\\nPonto Fixo\")\n",
        "mpf_res = fixedpoint(0.5,      tolerancia, maxiter)\n",
        "\n",
        "print(\"\\nTabela Comparativa\")\n",
        "criar_tabelasGerais(bis_res, new_res, sec_res, mpf_res)"
      ],
      "metadata": {
        "colab": {
          "base_uri": "https://localhost:8080/"
        },
        "id": "3W56Oxq52_Y1",
        "outputId": "521a4a94-5f62-4d4f-ac84-bc3807e8b16e"
      },
      "execution_count": 27,
      "outputs": [
        {
          "output_type": "stream",
          "name": "stdout",
          "text": [
            "Algoritmo de Bisseção\n",
            "+----------+--------------------+-------------------------+---------------------+\n",
            "| Iteração | X                  | F(x)                    | Error               |\n",
            "+----------+--------------------+-------------------------+---------------------+\n",
            "| 0        | 0.75               | -1.328125               | inf                 |\n",
            "| 1        | 1.125              | -0.701171875            | 0.375               |\n",
            "| 2        | 1.3125             | -0.051513671875         | 0.1875              |\n",
            "| 3        | 1.40625            | 0.374664306640625       | 0.09375             |\n",
            "| 4        | 1.359375           | 0.15261459350585938     | 0.046875            |\n",
            "| 5        | 1.3359375          | 0.04834890365600586     | 0.0234375           |\n",
            "| 6        | 1.32421875         | -0.0021279454231262207  | 0.01171875          |\n",
            "| 7        | 1.330078125        | 0.02297348529100418     | 0.005859375         |\n",
            "| 8        | 1.3271484375       | 0.010388596914708614    | 0.0029296875        |\n",
            "| 9        | 1.32568359375      | 0.004121791920624673    | 0.00146484375       |\n",
            "| 10       | 1.324951171875     | 0.000994790971162729    | 0.000732421875      |\n",
            "| 11       | 1.3245849609375    | -0.0005671101480402285  | 0.0003662109375     |\n",
            "| 12       | 1.32476806640625   | 0.00021370716262936185  | 0.00018310546875    |\n",
            "| 13       | 1.324676513671875  | -0.00017673480263624697 | 9.1552734375e-05    |\n",
            "| 14       | 1.3247222900390625 | 1.8477852226084224e-05  | 4.57763671875e-05   |\n",
            "| 15       | 1.3246994018554688 | -7.913055711172845e-05  | 2.288818359375e-05  |\n",
            "| 16       | 1.3247108459472656 | -3.0326872924035797e-05 | 1.1444091796875e-05 |\n",
            "| 17       | 1.324716567993164  | -5.924640469778808e-06  | 5.7220458984375e-06 |\n",
            "+----------+--------------------+-------------------------+---------------------+\n",
            "\n",
            "Algoritmo de Newton\n",
            "+----------+----------------------+------------------------+-----------------------+\n",
            "| Iteração | X                    | F(x)                   | Error                 |\n",
            "+----------+----------------------+------------------------+-----------------------+\n",
            "| 0        | 0                    | -1                     | inf                   |\n",
            "| 1        | -1.0                 | -1.0                   | 1.0                   |\n",
            "| 2        | -0.5                 | -0.625                 | 0.5                   |\n",
            "| 3        | -3.0                 | -25.0                  | 2.5                   |\n",
            "| 4        | -2.0384615384615383  | -7.432009558488847     | 0.9615384615384617    |\n",
            "| 5        | -1.3902821472167362  | -2.2969725946794988    | 0.6481793912448022    |\n",
            "| 6        | -0.911611897717927   | -0.8459706370956857    | 0.4786702494988091    |\n",
            "| 7        | -0.34502849674816916 | -0.6960453045686934    | 0.5665834009697579    |\n",
            "| 8        | -1.4277507040272703  | -2.482679233124769     | 1.0827222072791012    |\n",
            "| 9        | -0.9424179125094829  | -0.8945919906750464    | 0.4853327915177874    |\n",
            "| 10       | -0.40494935719937963 | -0.6614558508604775    | 0.5374685553101033    |\n",
            "| 11       | -1.7069046451828516  | -4.266202095763405     | 1.301955287983472     |\n",
            "| 12       | -1.1557563610748134  | -1.3880715103707626    | 0.5511482841080382    |\n",
            "| 13       | -0.6941918133295469  | -0.6403407998935591    | 0.46156454774526645   |\n",
            "| 14       | 0.7424942987207009   | -1.3331588374760288    | 1.4366861120502479    |\n",
            "| 15       | 2.7812959406776083   | 17.73371671201244      | 2.0388016419569075    |\n",
            "| 16       | 1.9827252470438306   | 4.811763064938814      | 0.7985706936337778    |\n",
            "| 17       | 1.5369273797582563   | 1.0935191301347857     | 0.44579786728557425   |\n",
            "| 18       | 1.3572624831877325   | 0.14303413852246472    | 0.17966489657052387   |\n",
            "| 19       | 1.3256630944288679   | 0.0040342141172651225  | 0.03159938875886459   |\n",
            "| 20       | 1.3247187886152572   | 3.5454928626332816e-06 | 0.000944305813610713  |\n",
            "| 21       | 1.3247179572453902   | 2.7471358521324873e-12 | 8.313698669493164e-07 |\n",
            "+----------+----------------------+------------------------+-----------------------+\n",
            "\n",
            "Algoritmo de Secante\n",
            "+----------+-----------------------+-------------------------+-----------------------+\n",
            "| Iteração | X                     | F(x)                    | Error                 |\n",
            "+----------+-----------------------+-------------------------+-----------------------+\n",
            "| 0        | 0                     | -1                      | inf                   |\n",
            "| 1        | 0.5                   | -1.375                  | inf                   |\n",
            "| 2        | -1.3333333333333333   | -2.0370370370370363     | 1.375                 |\n",
            "| 3        | 4.307692307692312     | 74.62676376877585       | 1.309523809523809     |\n",
            "| 4        | -1.1834454066082918   | -1.474020809502195      | 4.639958618824665     |\n",
            "| 5        | -1.0770857770252908   | -1.1724562655255686     | 0.09874759452932923   |\n",
            "| 6        | -0.6635689475626287   | -0.6286162185969553     | 0.6231708565953257    |\n",
            "| 7        | -0.1855913011368555   | -0.820801229962666      | 2.57543130253347      |\n",
            "| 8        | -2.22698171599276     | -9.817617329048296      | 0.9166624046331151    |\n",
            "| 9        | 0.0006496695458744206 | -1.000649669271668      | 3428.868414234134     |\n",
            "| 10       | 0.25346658974028224   | -1.2371825495718025     | 0.9974368631915547    |\n",
            "| 11       | -1.0688894459369718   | -1.1523430916434145     | 1.2371307815824653    |\n",
            "| 12       | -19.029964158270534   | -6873.47242364657       | 0.9438312422951977    |\n",
            "| 13       | -1.065877752633888    | -1.145061041572639      | 16.853796189333753    |\n",
            "| 14       | -1.0628845926161525   | -1.1378812765578123     | 0.0028160724490024405 |\n",
            "| 15       | -0.588515203800585    | -0.6153171224319192     | 0.8060444076077004    |\n",
            "| 16       | -0.029947217475477572 | -0.9700796402622988     | 18.651749090962912    |\n",
            "| 17       | -1.5573223036320447   | -3.2195779073962356     | 0.9807700580633607    |\n",
            "| 18       | 0.628722093709255     | -1.3801936123624408     | 3.476964495464684     |\n",
            "| 19       | 2.2690343012763687    | 8.413126601793156       | 0.7229120364749054    |\n",
            "| 20       | 0.8598948095663221    | -1.22407217755396       | 1.638734733636466     |\n",
            "| 21       | 1.03887715553508      | -0.9176526290378717     | 0.17228441785936846   |\n",
            "| 22       | 1.5748861051108707    | 1.3312507396525293      | 0.34034775456861127   |\n",
            "| 23       | 1.257592654214991     | -0.26866046838526225    | 0.2523022457489936    |\n",
            "| 24       | 1.3108732404781567    | -0.058283539041268595   | 0.04064510939572697   |\n",
            "| 25       | 1.3256342750616266    | 0.003911096820543802    | 0.011135073120211586  |\n",
            "| 26       | 1.3247060304529497    | -5.0862824548802976e-05 | 0.0007007174326514687 |\n",
            "| 27       | 1.3247179470666708    | -4.3405755212333474e-08 | 8.995585624484962e-06 |\n",
            "+----------+-----------------------+-------------------------+-----------------------+\n",
            "\n",
            "Algoritmo do Ponto Fixo\n",
            "+----------+--------------------+-------------------------+------------------------+\n",
            "| Iteração | X                  | F(x)                    | Error                  |\n",
            "+----------+--------------------+-------------------------+------------------------+\n",
            "| 0        | 0.5                | -1.375                  | inf                    |\n",
            "| 1        | 1.1447142425533319 | -0.6447142425533319     | 0.6447142425533319     |\n",
            "| 2        | 1.2896043179920333 | -0.1448900754387017     | 0.14489007543870147    |\n",
            "| 3        | 1.3180143695701612 | -0.02841005157812826    | 0.028410051578127815   |\n",
            "| 4        | 1.3234434065710552 | -0.0054290370008938105  | 0.0054290370008940325  |\n",
            "| 5        | 1.3244758162116481 | -0.001032409640593368   | 0.001032409640592924   |\n",
            "| 6        | 1.324671961742168  | -0.00019614553051949812 | 0.0001961455305199422  |\n",
            "| 7        | 1.3247092204902677 | -3.7258748100121863e-05 | 3.7258748099677774e-05 |\n",
            "| 8        | 1.324716297724429  | -7.077234161600998e-06  | 7.077234161156909e-06  |\n",
            "+----------+--------------------+-------------------------+------------------------+\n",
            "\n",
            "Tabela Comparativa\n",
            "+----------------+-----------+--------+------------------+----------+\n",
            "|                | Bissecção | Newton | Secante          | MPF      |\n",
            "+----------------+-----------+--------+------------------+----------+\n",
            "| Dados Iniciais | [0, 1.5]  | x0 = 0 | x0 = 0; x1 = 0.5 | x0 = 0.5 |\n",
            "| x̅              | 1.3247    | 1.3247 | 1.3247           | 1.3247   |\n",
            "| f(x̅)           | -0.0      | 0.0    | -0.0             | -0.0     |\n",
            "| Iterações      | 17        | 21     | 26               | 8        |\n",
            "+----------------+-----------+--------+------------------+----------+\n"
          ]
        }
      ]
    },
    {
      "cell_type": "markdown",
      "source": [
        "**Função 3** - Definição de valores\n",
        "![image.png](data:image/png;base64,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)"
      ],
      "metadata": {
        "id": "SNWtCy-U49o0"
      }
    },
    {
      "cell_type": "code",
      "source": [
        "formula = formula_fx = 'x**3-9*x+2'\n",
        "formula_x_evidence = 'x+0.1*(x**3-9*x+2)'\n",
        "formula_dx = '3*x**2-9'\n",
        "tolerancia = 1e-5\n",
        "maxiter = 1000\n",
        "\n",
        "print(\"\\nBisseção\")\n",
        "bis_res = bisection (0  , 1, tolerancia)\n",
        "\n",
        "print(\"\\nNewton\")\n",
        "new_res = newton    (0,      tolerancia, maxiter)\n",
        "\n",
        "print(\"\\nSecante\")\n",
        "sec_res = secante   (-0.5  , 0, tolerancia, maxiter)\n",
        "\n",
        "print(\"\\nPonto Fixo\")\n",
        "mpf_res = fixedpoint(0,      tolerancia, 10)\n",
        "\n",
        "print(\"\\nTabela Comparativa\")\n",
        "criar_tabelasGerais(bis_res, new_res, sec_res, mpf_res)"
      ],
      "metadata": {
        "colab": {
          "base_uri": "https://localhost:8080/"
        },
        "id": "KxC13dSz5E6Q",
        "outputId": "22bb0b32-688a-4311-a845-c362d1ca3612"
      },
      "execution_count": 28,
      "outputs": [
        {
          "output_type": "stream",
          "name": "stdout",
          "text": [
            "\n",
            "Bisseção\n",
            "+----------+---------------------+-------------------------+-------------------+\n",
            "| Iteração | X                   | F(x)                    | Error             |\n",
            "+----------+---------------------+-------------------------+-------------------+\n",
            "| 0        | 0.5                 | -2.375                  | inf               |\n",
            "| 1        | 0.25                | -0.234375               | 0.25              |\n",
            "| 2        | 0.125               | 0.876953125             | 0.125             |\n",
            "| 3        | 0.1875              | 0.319091796875          | 0.0625            |\n",
            "| 4        | 0.21875             | 0.041717529296875       | 0.03125           |\n",
            "| 5        | 0.234375            | -0.09650039672851562    | 0.015625          |\n",
            "| 6        | 0.2265625           | -0.027432918548583984   | 0.0078125         |\n",
            "| 7        | 0.22265625          | 0.007132112979888916    | 0.00390625        |\n",
            "| 8        | 0.224609375         | -0.010152973234653473   | 0.001953125       |\n",
            "| 9        | 0.2236328125        | -0.0015110699459910393  | 0.0009765625      |\n",
            "| 10       | 0.22314453125       | 0.0028103619115427136   | 0.00048828125     |\n",
            "| 11       | 0.223388671875      | 0.0006496060377685353   | 0.000244140625    |\n",
            "| 12       | 0.2235107421875     | -0.00043074194582004566 | 0.0001220703125   |\n",
            "| 13       | 0.22344970703125    | 0.00010942954872916744  | 6.103515625e-05   |\n",
            "| 14       | 0.223480224609375   | -0.0001606568229419736  | 3.0517578125e-05  |\n",
            "| 15       | 0.2234649658203125  | -2.5613793194878554e-05 | 1.52587890625e-05 |\n",
            "| 16       | 0.22345733642578125 | 4.190783874635784e-05   | 7.62939453125e-06 |\n",
            "+----------+---------------------+-------------------------+-------------------+\n",
            "\n",
            "Newton\n",
            "+----------+---------------------+------------------------+------------------------+\n",
            "| Iteração | X                   | F(x)                   | Error                  |\n",
            "+----------+---------------------+------------------------+------------------------+\n",
            "| 0        | 0                   | 2                      | inf                    |\n",
            "| 1        | 0.2222222222222222  | 0.010973936899862924   | 0.2222222222222222     |\n",
            "| 2        | 0.2234619556795289  | 1.0265314247526192e-06 | 0.0012397334573066854  |\n",
            "| 3        | 0.22346207166923424 | 9.103828801926284e-15  | 1.1598970534043573e-07 |\n",
            "+----------+---------------------+------------------------+------------------------+\n",
            "\n",
            "Secante\n",
            "+----------+---------------------+------------------------+------------------------+\n",
            "| Iteração | X                   | F(x)                   | Error                  |\n",
            "+----------+---------------------+------------------------+------------------------+\n",
            "| 0        | -0.5                | 6.375                  | inf                    |\n",
            "| 1        | 0                   | 2                      | inf                    |\n",
            "| 2        | 0.22857142857142856 | -0.045201166180757646  | 1.0                    |\n",
            "| 3        | 0.2235197518474592  | -0.0005104785428726721 | 0.022600583090378844   |\n",
            "| 4        | 0.22346204916465398 | 1.991699130066138e-07  | 0.0002582213983131635  |\n",
            "| 5        | 0.2234620716693336  | -8.699707620962727e-13 | 1.0070916935353706e-07 |\n",
            "+----------+---------------------+------------------------+------------------------+\n",
            "\n",
            "Ponto Fixo\n",
            "+----------+--------------------+---------------------+------------------------+\n",
            "| Iteração | X                  | F(x)                | Error                  |\n",
            "+----------+--------------------+---------------------+------------------------+\n",
            "| 0        | 0                  | 2                   | inf                    |\n",
            "| 1        | 1.0                | -6.0                | 1.0                    |\n",
            "| 2        | 1.2599210498948732 | -7.339289449053858  | 0.2599210498948732     |\n",
            "| 3        | 1.3122938366832888 | -7.550723480254726  | 0.052372786788415615   |\n",
            "| 4        | 1.3223538191388249 | -7.5888905355661365 | 0.010059982455536076   |\n",
            "| 5        | 1.324268744551578  | -7.596064881825377  | 0.0019149254127530657  |\n",
            "| 6        | 1.3246326252509202 | -7.597424882706704  | 0.0003638806993422339  |\n",
            "| 7        | 1.3247017485103587 | -7.597683111342308  | 6.912325943853048e-05  |\n",
            "| 8        | 1.3247148784409506 | -7.597732157458196  | 1.3129930591881944e-05 |\n",
            "| 9        | 1.324717372435671  | -7.597741473480088  | 2.4939947202984314e-06 |\n",
            "+----------+--------------------+---------------------+------------------------+\n",
            "\n",
            "Tabela Comparativa\n",
            "+----------------+-----------+--------+-------------------+---------+\n",
            "|                | Bissecção | Newton | Secante           | MPF     |\n",
            "+----------------+-----------+--------+-------------------+---------+\n",
            "| Dados Iniciais | [0, 1]    | x0 = 0 | x0 = -0.5; x1 = 0 | x0 = 0  |\n",
            "| x̅              | 0.2235    | 0.2235 | 0.2235            | 1.3247  |\n",
            "| f(x̅)           | 0.0       | 0.0    | -0.0              | -7.5977 |\n",
            "| Iterações      | 16        | 3      | 4                 | 9       |\n",
            "+----------------+-----------+--------+-------------------+---------+\n"
          ]
        }
      ]
    }
  ]
}
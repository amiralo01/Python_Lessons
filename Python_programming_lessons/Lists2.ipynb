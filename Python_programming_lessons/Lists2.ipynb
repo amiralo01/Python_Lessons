{
  "nbformat": 4,
  "nbformat_minor": 0,
  "metadata": {
    "colab": {
      "provenance": []
    },
    "kernelspec": {
      "name": "python3",
      "display_name": "Python 3"
    },
    "language_info": {
      "name": "python"
    }
  },
  "cells": [
    {
      "cell_type": "markdown",
      "source": [
        "# **Continuação da auala de Listas**"
      ],
      "metadata": {
        "id": "UKckiLKUZx4Q"
      }
    },
    {
      "cell_type": "code",
      "execution_count": 1,
      "metadata": {
        "id": "4sw8aX7h_V_C"
      },
      "outputs": [],
      "source": [
        "frase = 'programação'"
      ]
    },
    {
      "cell_type": "code",
      "source": [
        "l=[frase]\n",
        "print(l)"
      ],
      "metadata": {
        "colab": {
          "base_uri": "https://localhost:8080/"
        },
        "id": "KJOMfRdtAVsc",
        "outputId": "f14ccff1-11d0-4bd4-9382-363f35c647cc"
      },
      "execution_count": 2,
      "outputs": [
        {
          "output_type": "stream",
          "name": "stdout",
          "text": [
            "['programação']\n"
          ]
        }
      ]
    },
    {
      "cell_type": "code",
      "source": [
        "l=list(frase)\n",
        "print(l)"
      ],
      "metadata": {
        "colab": {
          "base_uri": "https://localhost:8080/"
        },
        "id": "GxWzD-xcAhzN",
        "outputId": "1e8e66f4-0ecc-456e-f2a9-738f62218b2b"
      },
      "execution_count": 3,
      "outputs": [
        {
          "output_type": "stream",
          "name": "stdout",
          "text": [
            "['p', 'r', 'o', 'g', 'r', 'a', 'm', 'a', 'ç', 'ã', 'o']\n"
          ]
        }
      ]
    },
    {
      "cell_type": "code",
      "source": [
        "l[0]='P'\n",
        "print(l)"
      ],
      "metadata": {
        "colab": {
          "base_uri": "https://localhost:8080/"
        },
        "id": "XWZCztwiBKFJ",
        "outputId": "5d6652f6-1d69-4584-9e94-0f3acd3adf93"
      },
      "execution_count": 5,
      "outputs": [
        {
          "output_type": "stream",
          "name": "stdout",
          "text": [
            "['P', 'r', 'o', 'g', 'r', 'a', 'm', 'a', 'ç', 'ã', 'o']\n"
          ]
        }
      ]
    },
    {
      "cell_type": "markdown",
      "source": [
        "O join só vai funcionar se os elementos da lista forém em str"
      ],
      "metadata": {
        "id": "-CkzHlnoBbH1"
      }
    },
    {
      "cell_type": "code",
      "source": [
        "type(l[3])"
      ],
      "metadata": {
        "colab": {
          "base_uri": "https://localhost:8080/"
        },
        "id": "Gvj49mP8BmEP",
        "outputId": "795c79e6-ea11-4bad-85c1-fa29e9481777"
      },
      "execution_count": 6,
      "outputs": [
        {
          "output_type": "execute_result",
          "data": {
            "text/plain": [
              "str"
            ]
          },
          "metadata": {},
          "execution_count": 6
        }
      ]
    },
    {
      "cell_type": "code",
      "source": [
        "string1='Ciência'\n",
        "string2='Computação'\n",
        "curso = string1 + ' de ' + string2\n",
        "print(curso)"
      ],
      "metadata": {
        "colab": {
          "base_uri": "https://localhost:8080/"
        },
        "id": "Ph-UDEHkDisq",
        "outputId": "3400a2a9-7e06-4af7-b5f4-a0fd491a7f89"
      },
      "execution_count": 8,
      "outputs": [
        {
          "output_type": "stream",
          "name": "stdout",
          "text": [
            "Ciência de Computação\n"
          ]
        }
      ]
    },
    {
      "cell_type": "code",
      "source": [
        "bits = '10100000'\n",
        "cadeiaBits = bits * 6\n",
        "print(cadeiaBits)"
      ],
      "metadata": {
        "colab": {
          "base_uri": "https://localhost:8080/"
        },
        "id": "w3fPwhNfFJ7z",
        "outputId": "ef3cdb59-16e1-4d26-ba9c-ec90605256c9"
      },
      "execution_count": 9,
      "outputs": [
        {
          "output_type": "stream",
          "name": "stdout",
          "text": [
            "101000001010000010100000101000001010000010100000\n"
          ]
        }
      ]
    },
    {
      "cell_type": "code",
      "source": [
        "lista=[1, 3, 5, 7, 9, 11, 13, 15]\n",
        "\n",
        "soma = 0\n",
        "for numero in lista:\n",
        "  soma += numero\n",
        "\n",
        "print(soma)"
      ],
      "metadata": {
        "colab": {
          "base_uri": "https://localhost:8080/"
        },
        "id": "vuhgoaj1HFej",
        "outputId": "ca5565b3-143f-4f8e-b909-1a659008eb68"
      },
      "execution_count": 10,
      "outputs": [
        {
          "output_type": "stream",
          "name": "stdout",
          "text": [
            "64\n"
          ]
        }
      ]
    },
    {
      "cell_type": "code",
      "source": [
        "frase[3]"
      ],
      "metadata": {
        "colab": {
          "base_uri": "https://localhost:8080/",
          "height": 35
        },
        "id": "uPy5zvSqHoiW",
        "outputId": "0ecc4ce3-15b6-402f-8840-20fc827ccbb3"
      },
      "execution_count": 13,
      "outputs": [
        {
          "output_type": "execute_result",
          "data": {
            "text/plain": [
              "'g'"
            ],
            "application/vnd.google.colaboratory.intrinsic+json": {
              "type": "string"
            }
          },
          "metadata": {},
          "execution_count": 13
        }
      ]
    },
    {
      "cell_type": "code",
      "source": [
        "fraseCopiada = ''\n",
        "print(fraseCopiada)\n",
        "type(fraseCopiada)"
      ],
      "metadata": {
        "colab": {
          "base_uri": "https://localhost:8080/"
        },
        "id": "feHiqYnjH5Ac",
        "outputId": "c55aadc5-dc2a-44d7-daf1-fecd27822653"
      },
      "execution_count": 14,
      "outputs": [
        {
          "output_type": "stream",
          "name": "stdout",
          "text": [
            "\n"
          ]
        },
        {
          "output_type": "execute_result",
          "data": {
            "text/plain": [
              "str"
            ]
          },
          "metadata": {},
          "execution_count": 14
        }
      ]
    },
    {
      "cell_type": "code",
      "source": [
        "#frase = 'programação'\n",
        "#fraseCopiada = ''\n",
        "\n",
        "for letra in frase:\n",
        "  fraseCopiada = fraseCopiada + letra\n",
        "  print(fraseCopiada)\n",
        "\n",
        "print(fraseCopiada)"
      ],
      "metadata": {
        "colab": {
          "base_uri": "https://localhost:8080/"
        },
        "id": "W0_FoQquIIdz",
        "outputId": "11bb1930-ff23-4ada-fb7e-1ddf8924234e"
      },
      "execution_count": 16,
      "outputs": [
        {
          "output_type": "stream",
          "name": "stdout",
          "text": [
            "programaçãop\n",
            "programaçãopr\n",
            "programaçãopro\n",
            "programaçãoprog\n",
            "programaçãoprogr\n",
            "programaçãoprogra\n",
            "programaçãoprogram\n",
            "programaçãoprograma\n",
            "programaçãoprogramaç\n",
            "programaçãoprogramaçã\n",
            "programaçãoprogramação\n",
            "programaçãoprogramação\n"
          ]
        }
      ]
    },
    {
      "cell_type": "code",
      "source": [
        "fraseCopiada='programação'\n",
        "lista = list(fraseCopiada)\n",
        "lista[0]='P'\n",
        "lista.append(' ')\n",
        "lista.append('e')\n",
        "listaComplementar = 'm Python.'\n",
        "lista.extend(list(listaComplementar))\n",
        "\n",
        "print(lista)\n",
        "\n",
        "fraseCopiada = ''.join(lista)\n",
        "print(fraseCopiada)\n",
        "\n",
        "fraseCopiada = '|'.join(lista)\n",
        "print(fraseCopiada)"
      ],
      "metadata": {
        "colab": {
          "base_uri": "https://localhost:8080/"
        },
        "id": "axWVdN0pI65A",
        "outputId": "8fce5156-f4f3-4f95-b5ef-36e917e70ad4"
      },
      "execution_count": 23,
      "outputs": [
        {
          "output_type": "stream",
          "name": "stdout",
          "text": [
            "['P', 'r', 'o', 'g', 'r', 'a', 'm', 'a', 'ç', 'ã', 'o', ' ', 'e', 'm', ' ', 'P', 'y', 't', 'h', 'o', 'n', '.']\n",
            "Programação em Python.\n",
            "P|r|o|g|r|a|m|a|ç|ã|o| |e|m| |P|y|t|h|o|n|.\n"
          ]
        }
      ]
    },
    {
      "cell_type": "code",
      "source": [
        "print('Anderson \\'Spider\\' Silva')\n",
        "print(\"Anderson \\\"Spider\\\" Silva\")\n",
        "print('Anderson \"Spider\" Silva')\n",
        "print(\"\\tAnderson\\n'Spider'\\n\\tSilva\")"
      ],
      "metadata": {
        "colab": {
          "base_uri": "https://localhost:8080/"
        },
        "id": "3WC1bQ7ONzcv",
        "outputId": "5665030a-3bd1-494c-f92d-eba6174e4bc0"
      },
      "execution_count": 25,
      "outputs": [
        {
          "output_type": "stream",
          "name": "stdout",
          "text": [
            "Anderson 'Spider' Silva\n",
            "Anderson \"Spider\" Silva\n",
            "Anderson \"Spider\" Silva\n",
            "\tAnderson\n",
            "'Spider'\n",
            "\tSilva\n"
          ]
        }
      ]
    },
    {
      "cell_type": "code",
      "source": [
        "fraseCopiada = ''.join(lista)\n",
        "print(fraseCopiada)"
      ],
      "metadata": {
        "colab": {
          "base_uri": "https://localhost:8080/"
        },
        "id": "5p7czqTVQs8K",
        "outputId": "4df005ac-bed4-4f93-fade-ea37d4c7ed9a"
      },
      "execution_count": 27,
      "outputs": [
        {
          "output_type": "stream",
          "name": "stdout",
          "text": [
            "Programação em Python.\n"
          ]
        }
      ]
    },
    {
      "cell_type": "code",
      "source": [
        "# Funções de Srings\n",
        "\n",
        "print(fraseCopiada)\n",
        "print(fraseCopiada.upper())\n",
        "print(fraseCopiada.lower())\n",
        "print(fraseCopiada.title())\n",
        "print(fraseCopiada.capitalize())\n",
        "\n",
        "print( f'\\033[1m\\033[94m{fraseCopiada}\\033[0m\\033[1m')"
      ],
      "metadata": {
        "colab": {
          "base_uri": "https://localhost:8080/"
        },
        "id": "lDdMRSUsPL0Q",
        "outputId": "e6611776-d8a2-4016-8f93-9bacebaeb378"
      },
      "execution_count": 37,
      "outputs": [
        {
          "output_type": "stream",
          "name": "stdout",
          "text": [
            "Programação em Python.\n",
            "PROGRAMAÇÃO EM PYTHON.\n",
            "programação em python.\n",
            "Programação Em Python.\n",
            "Programação em python.\n",
            "\u001b[1m\u001b[94mProgramação em Python.\u001b[0m\u001b[1m\n"
          ]
        }
      ]
    },
    {
      "cell_type": "code",
      "source": [
        "resposta = input('Responda \\'sim\\' para eceitação: ')\n",
        "if resposta.lower() == 'sim':\n",
        "  print('Obrigado por sua aceitação.')\n",
        "else:\n",
        "  print(':-(')"
      ],
      "metadata": {
        "colab": {
          "base_uri": "https://localhost:8080/"
        },
        "id": "G-MV0OhORWL7",
        "outputId": "0c107dc1-6f0c-4bea-a961-e0d0c748ec2e"
      },
      "execution_count": 39,
      "outputs": [
        {
          "output_type": "stream",
          "name": "stdout",
          "text": [
            "Responda 'sim' para eceitação: não\n",
            ":-(\n"
          ]
        }
      ]
    },
    {
      "cell_type": "code",
      "source": [
        "print(fraseCopiada)\n",
        "palavras = fraseCopiada.split()\n",
        "print(palavras)\n",
        "type(palavras)"
      ],
      "metadata": {
        "colab": {
          "base_uri": "https://localhost:8080/"
        },
        "id": "5ECobfFVWFVS",
        "outputId": "5b1539d5-b4d7-4c33-d6f8-1efb5f0ee2bb"
      },
      "execution_count": 40,
      "outputs": [
        {
          "output_type": "stream",
          "name": "stdout",
          "text": [
            "Programação em Python.\n",
            "['Programação', 'em', 'Python.']\n"
          ]
        },
        {
          "output_type": "execute_result",
          "data": {
            "text/plain": [
              "list"
            ]
          },
          "metadata": {},
          "execution_count": 40
        }
      ]
    },
    {
      "cell_type": "code",
      "source": [
        "hoje = '12/05/2023'\n",
        "listaData = hoje.split('/')\n",
        "print(f'Dia: {listaData[0]}')\n",
        "print(f'Mês: {listaData[1]}')\n",
        "print(f'Ano: {listaData[2]}')"
      ],
      "metadata": {
        "colab": {
          "base_uri": "https://localhost:8080/"
        },
        "id": "E9PrxQpIWdij",
        "outputId": "43e6823d-4ff6-4a42-fcea-11c16eca63fd"
      },
      "execution_count": 41,
      "outputs": [
        {
          "output_type": "stream",
          "name": "stdout",
          "text": [
            "Dia: 12\n",
            "Mês: 05\n",
            "Ano: 2023\n"
          ]
        }
      ]
    },
    {
      "cell_type": "code",
      "source": [
        "hoje = 'Hoje é quinta-feira'\n",
        "print(hoje)\n",
        "\n",
        "hoje = hoje.replace('quinta', 'sexta')\n",
        "print(hoje)"
      ],
      "metadata": {
        "colab": {
          "base_uri": "https://localhost:8080/"
        },
        "id": "a_I2QmghXLN2",
        "outputId": "ce2a0a94-8033-4f50-d7a4-0097bcab7fea"
      },
      "execution_count": 42,
      "outputs": [
        {
          "output_type": "stream",
          "name": "stdout",
          "text": [
            "Hoje é quinta-feira\n",
            "Hoje é sexta-feira\n"
          ]
        }
      ]
    },
    {
      "cell_type": "code",
      "source": [
        "cadeiaBits"
      ],
      "metadata": {
        "colab": {
          "base_uri": "https://localhost:8080/",
          "height": 35
        },
        "id": "m7EtEZGAYedt",
        "outputId": "7564e504-f0a3-4af7-f13c-0d8e9aa0da73"
      },
      "execution_count": 43,
      "outputs": [
        {
          "output_type": "execute_result",
          "data": {
            "text/plain": [
              "'101000001010000010100000101000001010000010100000'"
            ],
            "application/vnd.google.colaboratory.intrinsic+json": {
              "type": "string"
            }
          },
          "metadata": {},
          "execution_count": 43
        }
      ]
    },
    {
      "cell_type": "code",
      "source": [
        "cadeiaBitsUmEDois = cadeiaBits.replace('0', '2')\n",
        "print(cadeiaBitsUmEDois)"
      ],
      "metadata": {
        "colab": {
          "base_uri": "https://localhost:8080/"
        },
        "id": "RcOpdAQmYjZv",
        "outputId": "e439ac1d-e205-4698-9a0f-aa88f9f4cd3a"
      },
      "execution_count": 45,
      "outputs": [
        {
          "output_type": "stream",
          "name": "stdout",
          "text": [
            "121222221212222212122222121222221212222212122222\n"
          ]
        }
      ]
    }
  ]
}